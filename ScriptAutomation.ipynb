{
 "cells": [
  {
   "cell_type": "code",
   "execution_count": 1,
   "metadata": {},
   "outputs": [
    {
     "name": "stdout",
     "output_type": "stream",
     "text": [
      "Nettoyage terminé ! Fichier sauvegardé sous 'Dataset_test_aeig_clean7.xlsx'\n"
     ]
    }
   ],
   "source": [
    "import pandas as pd\n",
    "\n",
    "dataframe = pd.read_excel('Dataset_test_aeig_full.xlsx')\n",
    "\n",
    "dataframe.drop_duplicates(inplace=True)\n",
    "\n",
    "if 'marque' in dataframe.columns and 'satisfaction_clients' in dataframe.columns:\n",
    "    moyenne_satisfaction = dataframe.groupby('marque')['satisfaction_clients'].transform('mean')\n",
    "    dataframe['satisfaction_clients'].fillna(moyenne_satisfaction, inplace=True)\n",
    "\n",
    "for col in dataframe.select_dtypes(include=['object']).columns:\n",
    "    dataframe[col] = dataframe[col].str.strip()\n",
    "\n",
    "colonnes_numeriques = ['satisfaction_clients', 'prix', 'quantité']\n",
    "for col in colonnes_numeriques:\n",
    "    if col in dataframe.columns:\n",
    "        dataframe[col] = pd.to_numeric(dataframe[col], errors='coerce')\n",
    "\n",
    "dataframe.dropna(how='all', inplace=True)\n",
    "\n",
    "dataframe.to_excel(\"Dataset_test_aeig_clean_by_script.xlsx\", index=False)\n",
    "\n",
    "print(\"Nettoyage terminé ! Fichier sauvegardé sous 'Dataset_test_aeig_clean_by_script.xlsx'\")\n"
   ]
  },
  {
   "cell_type": "code",
   "execution_count": null,
   "metadata": {},
   "outputs": [],
   "source": []
  },
  {
   "cell_type": "code",
   "execution_count": null,
   "metadata": {},
   "outputs": [],
   "source": []
  }
 ],
 "metadata": {
  "kernelspec": {
   "display_name": "Python 3",
   "language": "python",
   "name": "python3"
  },
  "language_info": {
   "codemirror_mode": {
    "name": "ipython",
    "version": 3
   },
   "file_extension": ".py",
   "mimetype": "text/x-python",
   "name": "python",
   "nbconvert_exporter": "python",
   "pygments_lexer": "ipython3",
   "version": "3.10.11"
  }
 },
 "nbformat": 4,
 "nbformat_minor": 2
}
